{
 "cells": [
  {
   "cell_type": "code",
   "execution_count": 10,
   "id": "ffa0024e-eb39-4670-b03f-5c05185af108",
   "metadata": {},
   "outputs": [],
   "source": [
    "#simple airtel money\n",
    "Airtel_money={0:{\"*211#\"}, 1:{\"Buy Airtime, \"}, \n",
    "                 2:{\"Send money\"}, 3:{\"Maker payments\"},\n",
    "              4:{\"Withdraw money\"}, 5:{\"Financial services\"},\n",
    "              6:{\"Bank\"}, 7:{\"MANEB\"}}\n",
    "    \n"
   ]
  },
  {
   "cell_type": "code",
   "execution_count": null,
   "id": "fdf1f624-3cbd-45c1-996a-0ee955424e59",
   "metadata": {},
   "outputs": [],
   "source": [
    "#add bundle\n",
    "def add_bundle(airtel_money_id,quantity):\n",
    "    airtel[airtel_money_id]['bundle']+=quantity"
   ]
  },
  {
   "cell_type": "code",
   "execution_count": 19,
   "id": "96761840-a254-40af-82f7-2f60edf6217a",
   "metadata": {},
   "outputs": [],
   "source": [
    "#Buy airtime\n",
    "def buy_airtime(airtime_id_quarntity):\n",
    "    if airtel[artime]>= quantity:\n",
    "        airtel[airtime]-= quantity\n",
    "    else:\n",
    "        print(\"No enough money\")\n",
    "\n",
    "#check a airtel money ID\n",
    "def check_airtel(airtel_money_id):\n",
    "    return airtel.get(\"airtel_money_id, airtel not found! \")"
   ]
  },
  {
   "cell_type": "code",
   "execution_count": 20,
   "id": "95b056d9-fc8d-4a89-9d4b-60a4ce158d6a",
   "metadata": {},
   "outputs": [],
   "source": [
    "#add airtel money\n",
    "def add_airtel(airtel_money_id,buy_airtime,initial,bundle):\n",
    "    if airte_money_id not in airtel:\n",
    "        airtel[airtel_money_id]={'airtime':airtime,'bundle':bundle}\n",
    "        print(f\"airtel{airtime}add\" )\n",
    "    else:\n",
    "        print('Error:Airtel money ID aleady added exists')\n",
    "        \n",
    "        add_airtel(1,\"bundle\")\n",
    "        print(airtel)\n",
    "\n"
   ]
  },
  {
   "cell_type": "code",
   "execution_count": 60,
   "id": "51aab2b9-95b4-4808-82ed-57f90e4df1e2",
   "metadata": {},
   "outputs": [],
   "source": [
    "def add_airtel():\n",
    "    try:\n",
    "        airtel_money_id=int(input('Enter the airtel ID numbers'))\n",
    "        if airtel_money_it in airtel:\n",
    "                            print('Error:airtel money ID already exists! ')\n",
    "                            return\n",
    "        airtime=input(\"enter airtel name\" )\n",
    "        bundle=int(input('enter initial bundle: '))\n",
    "        if bundle<=0:\n",
    "            print(\"Error: bundle can't be negative! \")\n",
    "            return\n",
    "            if airtel[airtel_money_id]['bundle']>=quantity:\n",
    "                airtel[airtel_money_id]['bundle']-=quantity\n",
    "                print(f'sord{quantity}{airtel[airtel_money-ID]['airtime']}')\n",
    "            else:\n",
    "                print('Error: Not enouth bundle! ')\n",
    "    except ValuerError:\n",
    "        prit('invalid input! please enter number requared')\n",
    "        \n",
    "                   "
   ]
  },
  {
   "cell_type": "code",
   "execution_count": 87,
   "id": "0699f5b5-2e51-47bd-9474-a2ab86832878",
   "metadata": {},
   "outputs": [],
   "source": [
    "#send money\n",
    "def send_money_item():\n",
    "    try:\n",
    "        aritel_money_id=int(input('enter the aritel_money_ID(number): '))\n",
    "        if airtel_money_id not in airtel:\n",
    "            print('Error: airtel not found!')\n",
    "            return\n",
    "            quantity=int(input('Enter quantity to send: '))\n",
    "        if quantity <=0:\n",
    "            print('Error quantity must be postive! ')\n",
    "            return\n",
    "            if airtel[airtel_Money_id]['bundle']>= 'quantity':\n",
    "                airtel[airtel_money_id]['bundle']-= quantity\n",
    "                print(f'sold{quantity}{aitel[airtel_money_id]['bundle']}')\n",
    "            else:\n",
    "                print('airtel not found')\n",
    "    except ValuerError:\n",
    "        print(\"Invalid ID format\")\n",
    "        \n",
    "                            \n",
    "                            "
   ]
  },
  {
   "cell_type": "code",
   "execution_count": 1,
   "id": "74b2e89d-222f-4e83-940d-2990df33b719",
   "metadata": {},
   "outputs": [],
   "source": [
    "def main_menu():\n",
    "    while True:\n",
    "        print(\"\\n===Airtel Money system\")\n",
    "        print(\"1. Add a new airtel\")\n",
    "        print(\"2. Buy airtime\")\n",
    "        print(\"3. Send item\")\n",
    "        print(\"4. Check bundle\")\n",
    "        print(\"5. Exist\")\n",
    "        if choice == '1':\n",
    "            add_airtel_money()\n",
    "        elif choice == '2':\n",
    "            buy_item\n",
    "        elif choice == '3':\n",
    "            send_item\n",
    "        elif choice == '4':\n",
    "            check_bundle\n",
    "        elif chice == '5':\n",
    "            print('existing system...')\n",
    "            break\n",
    "        else:\n",
    "            print(\"Invalid choice! Please enter 1-5\")\n",
    "            if __buy_airtime__=='__main__':\n",
    "                main_menu()\n",
    "           "
   ]
  },
  {
   "cell_type": "code",
   "execution_count": null,
   "id": "69a8eeff-0700-4496-89ef-3e4937b31fe8",
   "metadata": {},
   "outputs": [],
   "source": []
  }
 ],
 "metadata": {
  "kernelspec": {
   "display_name": "Python 3 (ipykernel)",
   "language": "python",
   "name": "python3"
  },
  "language_info": {
   "codemirror_mode": {
    "name": "ipython",
    "version": 3
   },
   "file_extension": ".py",
   "mimetype": "text/x-python",
   "name": "python",
   "nbconvert_exporter": "python",
   "pygments_lexer": "ipython3",
   "version": "3.13.2"
  }
 },
 "nbformat": 4,
 "nbformat_minor": 5
}
